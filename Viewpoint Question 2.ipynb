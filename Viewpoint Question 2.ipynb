{
 "cells": [
  {
   "cell_type": "markdown",
   "metadata": {},
   "source": [
    "Import the needed packages and read the csv file using pandas."
   ]
  },
  {
   "cell_type": "code",
   "execution_count": 134,
   "metadata": {},
   "outputs": [],
   "source": [
    "import pandas as pd\n",
    "import matplotlib.pyplot as plt"
   ]
  },
  {
   "cell_type": "code",
   "execution_count": 144,
   "metadata": {},
   "outputs": [
    {
     "data": {
      "text/html": [
       "<div>\n",
       "<style scoped>\n",
       "    .dataframe tbody tr th:only-of-type {\n",
       "        vertical-align: middle;\n",
       "    }\n",
       "\n",
       "    .dataframe tbody tr th {\n",
       "        vertical-align: top;\n",
       "    }\n",
       "\n",
       "    .dataframe thead th {\n",
       "        text-align: right;\n",
       "    }\n",
       "</style>\n",
       "<table border=\"1\" class=\"dataframe\">\n",
       "  <thead>\n",
       "    <tr style=\"text-align: right;\">\n",
       "      <th></th>\n",
       "      <th>Employee Name</th>\n",
       "      <th>Employee Status</th>\n",
       "      <th>Salary</th>\n",
       "      <th>Pay Basis</th>\n",
       "      <th>Position Title</th>\n",
       "    </tr>\n",
       "  </thead>\n",
       "  <tbody>\n",
       "    <tr>\n",
       "      <th>0</th>\n",
       "      <td>Abrams, Adam W.</td>\n",
       "      <td>Employee</td>\n",
       "      <td>66300.0</td>\n",
       "      <td>Per Annum</td>\n",
       "      <td>WESTERN REGIONAL COMMUNICATIONS DIRECTOR</td>\n",
       "    </tr>\n",
       "    <tr>\n",
       "      <th>1</th>\n",
       "      <td>Adams, Ian H.</td>\n",
       "      <td>Employee</td>\n",
       "      <td>45000.0</td>\n",
       "      <td>Per Annum</td>\n",
       "      <td>EXECUTIVE ASSISTANT TO THE DIRECTOR OF SCHEDUL...</td>\n",
       "    </tr>\n",
       "    <tr>\n",
       "      <th>2</th>\n",
       "      <td>Agnew, David P.</td>\n",
       "      <td>Employee</td>\n",
       "      <td>93840.0</td>\n",
       "      <td>Per Annum</td>\n",
       "      <td>DEPUTY DIRECTOR OF INTERGOVERNMENTAL AFFAIRS</td>\n",
       "    </tr>\n",
       "    <tr>\n",
       "      <th>3</th>\n",
       "      <td>Albino, James</td>\n",
       "      <td>Employee</td>\n",
       "      <td>91800.0</td>\n",
       "      <td>Per Annum</td>\n",
       "      <td>SENIOR PROGRAM MANAGER</td>\n",
       "    </tr>\n",
       "    <tr>\n",
       "      <th>4</th>\n",
       "      <td>Aldy, Jr., Joseph E.</td>\n",
       "      <td>Employee</td>\n",
       "      <td>130500.0</td>\n",
       "      <td>Per Annum</td>\n",
       "      <td>SPECIAL ASSISTANT TO THE PRESIDENT FOR ENERGY ...</td>\n",
       "    </tr>\n",
       "    <tr>\n",
       "      <th>...</th>\n",
       "      <td>...</td>\n",
       "      <td>...</td>\n",
       "      <td>...</td>\n",
       "      <td>...</td>\n",
       "      <td>...</td>\n",
       "    </tr>\n",
       "    <tr>\n",
       "      <th>464</th>\n",
       "      <td>Young, Jr., Reginald D.</td>\n",
       "      <td>Employee</td>\n",
       "      <td>60232.0</td>\n",
       "      <td>Per Annum</td>\n",
       "      <td>RECORDS MANAGEMENT ANALYST</td>\n",
       "    </tr>\n",
       "    <tr>\n",
       "      <th>465</th>\n",
       "      <td>Young, Katherine H.</td>\n",
       "      <td>Employee</td>\n",
       "      <td>42000.0</td>\n",
       "      <td>Per Annum</td>\n",
       "      <td>STAFF ASSISTANT</td>\n",
       "    </tr>\n",
       "    <tr>\n",
       "      <th>466</th>\n",
       "      <td>Young, Latoya A.</td>\n",
       "      <td>Employee</td>\n",
       "      <td>58511.0</td>\n",
       "      <td>Per Annum</td>\n",
       "      <td>RECORDS MANAGEMENT ANALYST</td>\n",
       "    </tr>\n",
       "    <tr>\n",
       "      <th>467</th>\n",
       "      <td>Zelman, Allison L.</td>\n",
       "      <td>Employee</td>\n",
       "      <td>50000.0</td>\n",
       "      <td>Per Annum</td>\n",
       "      <td>POLICY ASSISTANT</td>\n",
       "    </tr>\n",
       "    <tr>\n",
       "      <th>468</th>\n",
       "      <td>Zichal, Heather R.</td>\n",
       "      <td>Employee</td>\n",
       "      <td>100000.0</td>\n",
       "      <td>Per Annum</td>\n",
       "      <td>DEPUTY ASSISTANT TO THE PRESIDENT FOR ENERGY A...</td>\n",
       "    </tr>\n",
       "  </tbody>\n",
       "</table>\n",
       "<p>469 rows × 5 columns</p>\n",
       "</div>"
      ],
      "text/plain": [
       "               Employee Name Employee Status    Salary  Pay Basis  \\\n",
       "0            Abrams, Adam W.        Employee   66300.0  Per Annum   \n",
       "1              Adams, Ian H.        Employee   45000.0  Per Annum   \n",
       "2            Agnew, David P.        Employee   93840.0  Per Annum   \n",
       "3             Albino, James         Employee   91800.0  Per Annum   \n",
       "4       Aldy, Jr., Joseph E.        Employee  130500.0  Per Annum   \n",
       "..                       ...             ...       ...        ...   \n",
       "464  Young, Jr., Reginald D.        Employee   60232.0  Per Annum   \n",
       "465      Young, Katherine H.        Employee   42000.0  Per Annum   \n",
       "466         Young, Latoya A.        Employee   58511.0  Per Annum   \n",
       "467       Zelman, Allison L.        Employee   50000.0  Per Annum   \n",
       "468       Zichal, Heather R.        Employee  100000.0  Per Annum   \n",
       "\n",
       "                                        Position Title  \n",
       "0             WESTERN REGIONAL COMMUNICATIONS DIRECTOR  \n",
       "1    EXECUTIVE ASSISTANT TO THE DIRECTOR OF SCHEDUL...  \n",
       "2         DEPUTY DIRECTOR OF INTERGOVERNMENTAL AFFAIRS  \n",
       "3                               SENIOR PROGRAM MANAGER  \n",
       "4    SPECIAL ASSISTANT TO THE PRESIDENT FOR ENERGY ...  \n",
       "..                                                 ...  \n",
       "464                         RECORDS MANAGEMENT ANALYST  \n",
       "465                                    STAFF ASSISTANT  \n",
       "466                         RECORDS MANAGEMENT ANALYST  \n",
       "467                                   POLICY ASSISTANT  \n",
       "468  DEPUTY ASSISTANT TO THE PRESIDENT FOR ENERGY A...  \n",
       "\n",
       "[469 rows x 5 columns]"
      ]
     },
     "execution_count": 144,
     "metadata": {},
     "output_type": "execute_result"
    }
   ],
   "source": [
    "data=pd.read_csv(\"Congress_White_House.csv\")\n",
    "data"
   ]
  },
  {
   "cell_type": "markdown",
   "metadata": {},
   "source": [
    "Mean, Max, and Min"
   ]
  },
  {
   "cell_type": "code",
   "execution_count": 136,
   "metadata": {},
   "outputs": [],
   "source": [
    "salMean=data[\"Salary\"].mean()\n",
    "salMax=data[\"Salary\"].max()\n",
    "salMin=data[\"Salary\"].min()"
   ]
  },
  {
   "cell_type": "code",
   "execution_count": 137,
   "metadata": {},
   "outputs": [
    {
     "name": "stdout",
     "output_type": "stream",
     "text": [
      "Average Salary: 82721.33688699361\n",
      "Max Salary: 179700.0\n",
      "Min Salary: 0.0\n"
     ]
    }
   ],
   "source": [
    "print('Average Salary: ' + str(salMean) + '\\nMax Salary: ' + str(salMax) + \n",
    "      '\\nMin Salary: ' + str(salMin))"
   ]
  },
  {
   "cell_type": "markdown",
   "metadata": {},
   "source": [
    "There appears to be 3 lines where the salary is listed as 0.\n",
    "I will be assuming this is an error, and removing them."
   ]
  },
  {
   "cell_type": "code",
   "execution_count": 138,
   "metadata": {},
   "outputs": [
    {
     "data": {
      "text/html": [
       "<div>\n",
       "<style scoped>\n",
       "    .dataframe tbody tr th:only-of-type {\n",
       "        vertical-align: middle;\n",
       "    }\n",
       "\n",
       "    .dataframe tbody tr th {\n",
       "        vertical-align: top;\n",
       "    }\n",
       "\n",
       "    .dataframe thead th {\n",
       "        text-align: right;\n",
       "    }\n",
       "</style>\n",
       "<table border=\"1\" class=\"dataframe\">\n",
       "  <thead>\n",
       "    <tr style=\"text-align: right;\">\n",
       "      <th></th>\n",
       "      <th>Employee Name</th>\n",
       "      <th>Employee Status</th>\n",
       "      <th>Salary</th>\n",
       "      <th>Pay Basis</th>\n",
       "      <th>Position Title</th>\n",
       "    </tr>\n",
       "  </thead>\n",
       "  <tbody>\n",
       "    <tr>\n",
       "      <th>66</th>\n",
       "      <td>Chen, Margaret C.</td>\n",
       "      <td>Employee</td>\n",
       "      <td>0.0</td>\n",
       "      <td>Per Annum</td>\n",
       "      <td>SPECIAL ASSISTANT</td>\n",
       "    </tr>\n",
       "    <tr>\n",
       "      <th>277</th>\n",
       "      <td>McGinnis, Patricia G.</td>\n",
       "      <td>Employee</td>\n",
       "      <td>0.0</td>\n",
       "      <td>Per Annum</td>\n",
       "      <td>ADVISOR</td>\n",
       "    </tr>\n",
       "    <tr>\n",
       "      <th>461</th>\n",
       "      <td>Wong, Shale L.</td>\n",
       "      <td>Employee</td>\n",
       "      <td>0.0</td>\n",
       "      <td>Per Annum</td>\n",
       "      <td>POLICY ADVISOR</td>\n",
       "    </tr>\n",
       "  </tbody>\n",
       "</table>\n",
       "</div>"
      ],
      "text/plain": [
       "             Employee Name Employee Status  Salary  Pay Basis  \\\n",
       "66       Chen, Margaret C.        Employee     0.0  Per Annum   \n",
       "277  McGinnis, Patricia G.        Employee     0.0  Per Annum   \n",
       "461         Wong, Shale L.        Employee     0.0  Per Annum   \n",
       "\n",
       "        Position Title  \n",
       "66   SPECIAL ASSISTANT  \n",
       "277            ADVISOR  \n",
       "461     POLICY ADVISOR  "
      ]
     },
     "execution_count": 138,
     "metadata": {},
     "output_type": "execute_result"
    }
   ],
   "source": [
    "data[data[\"Salary\"] == 0]"
   ]
  },
  {
   "cell_type": "markdown",
   "metadata": {},
   "source": [
    "As you can see in the code below, the missing values have been removed allowing for the accurate mean and minimum to display. I will be using this new data set going forward."
   ]
  },
  {
   "cell_type": "code",
   "execution_count": 139,
   "metadata": {},
   "outputs": [
    {
     "name": "stdout",
     "output_type": "stream",
     "text": [
      "Average Salary: 83253.87768240343\n",
      "Max Salary: 179700.0\n",
      "Min Salary: 21000.0\n"
     ]
    }
   ],
   "source": [
    "dataTwo=data[data[\"Salary\"] != 0]\n",
    "salMean=dataTwo[\"Salary\"].mean()\n",
    "salMax=dataTwo[\"Salary\"].max()\n",
    "salMin=dataTwo[\"Salary\"].min()\n",
    "print('Average Salary: ' + str(salMean) + '\\nMax Salary: ' + str(salMax) + \n",
    "      '\\nMin Salary: ' + str(salMin))"
   ]
  },
  {
   "cell_type": "markdown",
   "metadata": {},
   "source": [
    "As you can see below, simply plotitng the data does not give us any insight into the spread."
   ]
  },
  {
   "cell_type": "code",
   "execution_count": 140,
   "metadata": {},
   "outputs": [
    {
     "data": {
      "text/plain": [
       "<matplotlib.axes._subplots.AxesSubplot at 0x7fb4c8965410>"
      ]
     },
     "execution_count": 140,
     "metadata": {},
     "output_type": "execute_result"
    },
    {
     "data": {
      "image/png": "[encoded data removed]",
      "text/plain": [
       "<Figure size 432x288 with 1 Axes>"
      ]
     },
     "metadata": {
      "needs_background": "light"
     },
     "output_type": "display_data"
    }
   ],
   "source": [
    "sal=dataTwo[\"Salary\"]\n",
    "sal.plot()"
   ]
  },
  {
   "cell_type": "markdown",
   "metadata": {},
   "source": [
    "By sorting the data by salary range we can make sense of the distribution more easily"
   ]
  },
  {
   "cell_type": "code",
   "execution_count": 141,
   "metadata": {},
   "outputs": [
    {
     "data": {
      "text/html": [
       "<div>\n",
       "<style scoped>\n",
       "    .dataframe tbody tr th:only-of-type {\n",
       "        vertical-align: middle;\n",
       "    }\n",
       "\n",
       "    .dataframe tbody tr th {\n",
       "        vertical-align: top;\n",
       "    }\n",
       "\n",
       "    .dataframe thead th {\n",
       "        text-align: right;\n",
       "    }\n",
       "</style>\n",
       "<table border=\"1\" class=\"dataframe\">\n",
       "  <thead>\n",
       "    <tr style=\"text-align: right;\">\n",
       "      <th></th>\n",
       "      <th>Number Employed</th>\n",
       "    </tr>\n",
       "    <tr>\n",
       "      <th>Salary</th>\n",
       "      <th></th>\n",
       "    </tr>\n",
       "  </thead>\n",
       "  <tbody>\n",
       "    <tr>\n",
       "      <th>(0, 25000]</th>\n",
       "      <td>1</td>\n",
       "    </tr>\n",
       "    <tr>\n",
       "      <th>(25000, 50000]</th>\n",
       "      <td>144</td>\n",
       "    </tr>\n",
       "    <tr>\n",
       "      <th>(50000, 75000]</th>\n",
       "      <td>114</td>\n",
       "    </tr>\n",
       "    <tr>\n",
       "      <th>(75000, 100000]</th>\n",
       "      <td>67</td>\n",
       "    </tr>\n",
       "    <tr>\n",
       "      <th>(100000, 125000]</th>\n",
       "      <td>40</td>\n",
       "    </tr>\n",
       "    <tr>\n",
       "      <th>(125000, 150000]</th>\n",
       "      <td>54</td>\n",
       "    </tr>\n",
       "    <tr>\n",
       "      <th>(150000, 175000]</th>\n",
       "      <td>44</td>\n",
       "    </tr>\n",
       "    <tr>\n",
       "      <th>(175000, 200000]</th>\n",
       "      <td>2</td>\n",
       "    </tr>\n",
       "  </tbody>\n",
       "</table>\n",
       "</div>"
      ],
      "text/plain": [
       "                  Number Employed\n",
       "Salary                           \n",
       "(0, 25000]                      1\n",
       "(25000, 50000]                144\n",
       "(50000, 75000]                114\n",
       "(75000, 100000]                67\n",
       "(100000, 125000]               40\n",
       "(125000, 150000]               54\n",
       "(150000, 175000]               44\n",
       "(175000, 200000]                2"
      ]
     },
     "execution_count": 141,
     "metadata": {},
     "output_type": "execute_result"
    }
   ],
   "source": [
    "ranges = [0,25000,50000,75000,100000,125000,150000,175000,200000]\n",
    "salBracket=pd.DataFrame(sal.groupby(pd.cut(sal, ranges)).count()).rename(columns={\"Salary\": \"Number Employed\"})\n",
    "salBracket"
   ]
  },
  {
   "cell_type": "code",
   "execution_count": 142,
   "metadata": {},
   "outputs": [
    {
     "data": {
      "text/plain": [
       "<matplotlib.axes._subplots.AxesSubplot at 0x7fb501b50850>"
      ]
     },
     "execution_count": 142,
     "metadata": {},
     "output_type": "execute_result"
    },
    {
     "data": {
      "image/png": "[encoded data removed]",
      "text/plain": [
       "<Figure size 432x288 with 1 Axes>"
      ]
     },
     "metadata": {
      "needs_background": "light"
     },
     "output_type": "display_data"
    }
   ],
   "source": [
    "salBracket.plot.barh(rot=0)"
   ]
  }
 ],
 "metadata": {
  "kernelspec": {
   "display_name": "Python 3",
   "language": "python",
   "name": "python3"
  },
  "language_info": {
   "codemirror_mode": {
    "name": "ipython",
    "version": 3
   },
   "file_extension": ".py",
   "mimetype": "text/x-python",
   "name": "python",
   "nbconvert_exporter": "python",
   "pygments_lexer": "ipython3",
   "version": "3.7.6"
  }
 },
 "nbformat": 4,
 "nbformat_minor": 4
}
